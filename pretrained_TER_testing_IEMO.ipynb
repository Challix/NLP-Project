{
 "cells": [
  {
   "cell_type": "markdown",
   "id": "ae1aa7d5",
   "metadata": {},
   "source": [
    "# TER using pretrained bert transformer model\n",
    "## Morgan Sandler (sandle20@msu.edu)"
   ]
  },
  {
   "cell_type": "code",
   "execution_count": 38,
   "id": "2e6faf3b",
   "metadata": {},
   "outputs": [],
   "source": [
    "import pandas as pd\n",
    "import numpy as np\n",
    "from tqdm import tqdm"
   ]
  },
  {
   "cell_type": "markdown",
   "id": "8f269e8f",
   "metadata": {},
   "source": [
    "### Load the pretrained model from huggingface/transformers"
   ]
  },
  {
   "cell_type": "code",
   "execution_count": 2,
   "id": "dce7d5d2",
   "metadata": {},
   "outputs": [
    {
     "name": "stderr",
     "output_type": "stream",
     "text": [
      "2022-11-14 16:20:58.144483: I tensorflow/core/platform/cpu_feature_guard.cc:193] This TensorFlow binary is optimized with oneAPI Deep Neural Network Library (oneDNN) to use the following CPU instructions in performance-critical operations:  AVX2 FMA\n",
      "To enable them in other operations, rebuild TensorFlow with the appropriate compiler flags.\n",
      "The cache for model files in Transformers v4.22.0 has been updated. Migrating your old cache. This is a one-time only operation. You can interrupt this and resume the migration later on by calling `transformers.utils.move_cache()`.\n"
     ]
    },
    {
     "name": "stdout",
     "output_type": "stream",
     "text": [
      "Moving 5 files to the new cache system\n"
     ]
    },
    {
     "data": {
      "application/vnd.jupyter.widget-view+json": {
       "model_id": "838e926762f54a98a8055d3c28575339",
       "version_major": 2,
       "version_minor": 0
      },
      "text/plain": [
       "  0%|          | 0/5 [00:00<?, ?it/s]"
      ]
     },
     "metadata": {},
     "output_type": "display_data"
    },
    {
     "data": {
      "application/vnd.jupyter.widget-view+json": {
       "model_id": "f37a666e59a14113b3e5edaea80c6483",
       "version_major": 2,
       "version_minor": 0
      },
      "text/plain": [
       "Downloading:   0%|          | 0.00/935 [00:00<?, ?B/s]"
      ]
     },
     "metadata": {},
     "output_type": "display_data"
    },
    {
     "data": {
      "application/vnd.jupyter.widget-view+json": {
       "model_id": "077a47b8cf114a8997e719c4efb6c6da",
       "version_major": 2,
       "version_minor": 0
      },
      "text/plain": [
       "Downloading:   0%|          | 0.00/438M [00:00<?, ?B/s]"
      ]
     },
     "metadata": {},
     "output_type": "display_data"
    },
    {
     "data": {
      "application/vnd.jupyter.widget-view+json": {
       "model_id": "2c8c5c17bd1b44a996261813b16324ad",
       "version_major": 2,
       "version_minor": 0
      },
      "text/plain": [
       "Downloading:   0%|          | 0.00/285 [00:00<?, ?B/s]"
      ]
     },
     "metadata": {},
     "output_type": "display_data"
    },
    {
     "data": {
      "application/vnd.jupyter.widget-view+json": {
       "model_id": "7c62c230142d4f3485176d3cb1af6127",
       "version_major": 2,
       "version_minor": 0
      },
      "text/plain": [
       "Downloading:   0%|          | 0.00/232k [00:00<?, ?B/s]"
      ]
     },
     "metadata": {},
     "output_type": "display_data"
    },
    {
     "data": {
      "application/vnd.jupyter.widget-view+json": {
       "model_id": "4e4cd26825cf4736a02f5e8f0e759b5b",
       "version_major": 2,
       "version_minor": 0
      },
      "text/plain": [
       "Downloading:   0%|          | 0.00/466k [00:00<?, ?B/s]"
      ]
     },
     "metadata": {},
     "output_type": "display_data"
    },
    {
     "data": {
      "application/vnd.jupyter.widget-view+json": {
       "model_id": "0163ba511ccd4daabe9c8ef82d7e40ca",
       "version_major": 2,
       "version_minor": 0
      },
      "text/plain": [
       "Downloading:   0%|          | 0.00/112 [00:00<?, ?B/s]"
      ]
     },
     "metadata": {},
     "output_type": "display_data"
    },
    {
     "name": "stderr",
     "output_type": "stream",
     "text": [
      "/Users/morgan/miniconda3/lib/python3.7/site-packages/transformers/pipelines/text_classification.py:92: UserWarning: `return_all_scores` is now deprecated,  if want a similar funcionality use `top_k=None` instead of `return_all_scores=True` or `top_k=1` instead of `return_all_scores=False`.\n",
      "  UserWarning,\n"
     ]
    },
    {
     "name": "stdout",
     "output_type": "stream",
     "text": [
      "[[{'label': 'sadness', 'score': 0.0005138238193467259}, {'label': 'joy', 'score': 0.9972521662712097}, {'label': 'love', 'score': 0.000744332792237401}, {'label': 'anger', 'score': 0.000740493240300566}, {'label': 'fear', 'score': 0.00032938597723841667}, {'label': 'surprise', 'score': 0.00041974912164732814}]]\n"
     ]
    }
   ],
   "source": [
    "from transformers import pipeline\n",
    "classifier = pipeline(\"text-classification\",model='bhadresh-savani/bert-base-uncased-emotion', return_all_scores=True)\n",
    "prediction = classifier(\"I love using transformers. The best part is wide range of support and its easy to use\", )\n",
    "print(prediction)"
   ]
  },
  {
   "cell_type": "markdown",
   "id": "97e66237",
   "metadata": {},
   "source": [
    "### Load IEMOCAP text data from CSV"
   ]
  },
  {
   "cell_type": "code",
   "execution_count": 63,
   "id": "8d75bc5a",
   "metadata": {},
   "outputs": [
    {
     "data": {
      "text/html": [
       "<div>\n",
       "<style scoped>\n",
       "    .dataframe tbody tr th:only-of-type {\n",
       "        vertical-align: middle;\n",
       "    }\n",
       "\n",
       "    .dataframe tbody tr th {\n",
       "        vertical-align: top;\n",
       "    }\n",
       "\n",
       "    .dataframe thead th {\n",
       "        text-align: right;\n",
       "    }\n",
       "</style>\n",
       "<table border=\"1\" class=\"dataframe\">\n",
       "  <thead>\n",
       "    <tr style=\"text-align: right;\">\n",
       "      <th></th>\n",
       "      <th>Unnamed: 0</th>\n",
       "      <th>file_ids</th>\n",
       "      <th>start_times</th>\n",
       "      <th>stop_times</th>\n",
       "      <th>texts</th>\n",
       "      <th>labels</th>\n",
       "    </tr>\n",
       "  </thead>\n",
       "  <tbody>\n",
       "    <tr>\n",
       "      <th>0</th>\n",
       "      <td>0</td>\n",
       "      <td>Ses01F_impro01_F000</td>\n",
       "      <td>6.2901</td>\n",
       "      <td>8.2357</td>\n",
       "      <td>Excuse me.</td>\n",
       "      <td>neu</td>\n",
       "    </tr>\n",
       "    <tr>\n",
       "      <th>1</th>\n",
       "      <td>1</td>\n",
       "      <td>Ses01F_impro01_F001</td>\n",
       "      <td>10.0100</td>\n",
       "      <td>11.3925</td>\n",
       "      <td>Do you have your forms?</td>\n",
       "      <td>neu</td>\n",
       "    </tr>\n",
       "    <tr>\n",
       "      <th>2</th>\n",
       "      <td>2</td>\n",
       "      <td>Ses01F_impro01_F002</td>\n",
       "      <td>14.8872</td>\n",
       "      <td>18.0175</td>\n",
       "      <td>Yeah.</td>\n",
       "      <td>neu</td>\n",
       "    </tr>\n",
       "    <tr>\n",
       "      <th>3</th>\n",
       "      <td>3</td>\n",
       "      <td>Ses01F_impro01_F003</td>\n",
       "      <td>19.2900</td>\n",
       "      <td>20.7875</td>\n",
       "      <td>Let me see them.</td>\n",
       "      <td>xxx</td>\n",
       "    </tr>\n",
       "    <tr>\n",
       "      <th>4</th>\n",
       "      <td>4</td>\n",
       "      <td>Ses01F_impro01_F004</td>\n",
       "      <td>21.3257</td>\n",
       "      <td>24.7400</td>\n",
       "      <td>Is there a problem?</td>\n",
       "      <td>xxx</td>\n",
       "    </tr>\n",
       "  </tbody>\n",
       "</table>\n",
       "</div>"
      ],
      "text/plain": [
       "   Unnamed: 0             file_ids  start_times  stop_times  \\\n",
       "0           0  Ses01F_impro01_F000       6.2901      8.2357   \n",
       "1           1  Ses01F_impro01_F001      10.0100     11.3925   \n",
       "2           2  Ses01F_impro01_F002      14.8872     18.0175   \n",
       "3           3  Ses01F_impro01_F003      19.2900     20.7875   \n",
       "4           4  Ses01F_impro01_F004      21.3257     24.7400   \n",
       "\n",
       "                     texts labels  \n",
       "0               Excuse me.    neu  \n",
       "1  Do you have your forms?    neu  \n",
       "2                    Yeah.    neu  \n",
       "3         Let me see them.    xxx  \n",
       "4      Is there a problem?    xxx  "
      ]
     },
     "execution_count": 63,
     "metadata": {},
     "output_type": "execute_result"
    }
   ],
   "source": [
    "iemo_df = pd.read_csv('data/iemocap-text-label.csv')\n",
    "iemo_df.head()"
   ]
  },
  {
   "cell_type": "code",
   "execution_count": 35,
   "id": "3a71944d",
   "metadata": {},
   "outputs": [],
   "source": [
    "def argmax(prediction):\n",
    "    maxi = prediction[0][0]\n",
    "    for pred in prediction[0]:\n",
    "        #print(pred)\n",
    "        if pred['score'] > maxi['score']:\n",
    "            maxi = pred\n",
    "    return maxi"
   ]
  },
  {
   "cell_type": "code",
   "execution_count": 45,
   "id": "2f940c9a",
   "metadata": {},
   "outputs": [
    {
     "data": {
      "text/plain": [
       "{'label': 'anger', 'score': 0.7170816659927368}"
      ]
     },
     "execution_count": 45,
     "metadata": {},
     "output_type": "execute_result"
    }
   ],
   "source": [
    "argmax(classifier('Do you have your forms?'))"
   ]
  },
  {
   "cell_type": "code",
   "execution_count": 79,
   "id": "2aa45730",
   "metadata": {},
   "outputs": [
    {
     "name": "stderr",
     "output_type": "stream",
     "text": [
      "9985it [06:18, 26.37it/s]\n"
     ]
    }
   ],
   "source": [
    "preds = []\n",
    "for i, row in tqdm(iemo_df.iterrows()):\n",
    "    try:\n",
    "        pred_label = argmax(classifier(row['texts']))['label']\n",
    "    except:\n",
    "        pred_label = 'xxx'\n",
    "    #print(row['texts'], pred_label)\n",
    "    preds.append(pred_label)"
   ]
  },
  {
   "cell_type": "code",
   "execution_count": 80,
   "id": "3e3516e9",
   "metadata": {},
   "outputs": [],
   "source": [
    "iemo_df['pred'] = preds"
   ]
  },
  {
   "cell_type": "code",
   "execution_count": 84,
   "id": "f6dbdda0",
   "metadata": {},
   "outputs": [
    {
     "data": {
      "text/plain": [
       "array(['anger', 'fear', 'joy', 'love', 'sadness', 'surprise', 'xxx'],\n",
       "      dtype='<U8')"
      ]
     },
     "execution_count": 84,
     "metadata": {},
     "output_type": "execute_result"
    }
   ],
   "source": [
    "np.unique(preds)"
   ]
  },
  {
   "cell_type": "code",
   "execution_count": 85,
   "id": "c0639532",
   "metadata": {},
   "outputs": [
    {
     "data": {
      "text/plain": [
       "array(['ang', 'dis', 'exc', 'fea', 'fru', 'hap', 'neu', 'oth', 'sad',\n",
       "       'sur', 'xxx'], dtype=object)"
      ]
     },
     "execution_count": 85,
     "metadata": {},
     "output_type": "execute_result"
    }
   ],
   "source": [
    "np.unique(iemo_df.labels)"
   ]
  },
  {
   "cell_type": "code",
   "execution_count": 86,
   "id": "b2daa81b",
   "metadata": {},
   "outputs": [],
   "source": [
    "# MAPPINGS TO 6 classes: XXX, ANG, DIS, FEA, HAP, SAD\n",
    "mapping_txt_to_ser = {\n",
    "    'anger':'ang',\n",
    "    'fear':'fea',\n",
    "    'joy':'hap',\n",
    "    'love':'hap',\n",
    "    'sadness':'sad',\n",
    "    'surprise':'sur',\n",
    "    'xxx':'xxx',\n",
    "}\n",
    "mapping_ser_to_txt = {\n",
    "    'ang':'ang',\n",
    "    'dis':'xxx',\n",
    "    'exc':'hap',\n",
    "    'fea':'fea',\n",
    "    'fru':'xxx',\n",
    "    'hap':'hap',\n",
    "    'neu':'xxx',\n",
    "    'oth':'xxx',\n",
    "    'sad':'sad',\n",
    "    'sur':'sur',\n",
    "    'xxx':'xxx'\n",
    "}\n",
    "corr = []\n",
    "for i, row in iemo_df.iterrows():\n",
    "    if mapping_ser_to_txt[row['labels']] == mapping_txt_to_ser[row['pred']]:\n",
    "        corr.append(1)\n",
    "    else:\n",
    "        corr.append(0)"
   ]
  },
  {
   "cell_type": "code",
   "execution_count": 92,
   "id": "5ae7bb0c",
   "metadata": {},
   "outputs": [
    {
     "name": "stdout",
     "output_type": "stream",
     "text": [
      "16.2 % unweighted acc\n"
     ]
    }
   ],
   "source": [
    "print(round(sum(corr)/len(corr) * 100.0, 1), '% unweighted acc')"
   ]
  },
  {
   "cell_type": "code",
   "execution_count": null,
   "id": "9351839f",
   "metadata": {},
   "outputs": [],
   "source": []
  }
 ],
 "metadata": {
  "kernelspec": {
   "display_name": "Python 3 (ipykernel)",
   "language": "python",
   "name": "python3"
  },
  "language_info": {
   "codemirror_mode": {
    "name": "ipython",
    "version": 3
   },
   "file_extension": ".py",
   "mimetype": "text/x-python",
   "name": "python",
   "nbconvert_exporter": "python",
   "pygments_lexer": "ipython3",
   "version": "3.7.12"
  }
 },
 "nbformat": 4,
 "nbformat_minor": 5
}
